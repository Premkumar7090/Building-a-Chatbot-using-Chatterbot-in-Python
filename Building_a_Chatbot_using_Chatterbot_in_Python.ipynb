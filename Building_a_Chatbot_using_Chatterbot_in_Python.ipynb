{
  "nbformat": 4,
  "nbformat_minor": 0,
  "metadata": {
    "colab": {
      "name": "Building a Chatbot using Chatterbot in Python.ipynb",
      "provenance": []
    },
    "kernelspec": {
      "name": "python3",
      "display_name": "Python 3"
    }
  },
  "cells": [
    {
      "cell_type": "code",
      "metadata": {
        "colab": {
          "base_uri": "https://localhost:8080/"
        },
        "id": "w2m-Nq-8pqnr",
        "outputId": "79de80f6-a4d9-4ecb-e45d-a7e7755249f4"
      },
      "source": [
        "pip install chatterbot"
      ],
      "execution_count": 1,
      "outputs": [
        {
          "output_type": "stream",
          "text": [
            "Collecting chatterbot\n",
            "\u001b[?25l  Downloading https://files.pythonhosted.org/packages/7c/21/85c2b114bd9dfabdd46ba58fc4519acdaed45d8c70898d40079e37a45e67/ChatterBot-1.0.8-py2.py3-none-any.whl (63kB)\n",
            "\r\u001b[K     |█████▏                          | 10kB 12.0MB/s eta 0:00:01\r\u001b[K     |██████████▎                     | 20kB 10.1MB/s eta 0:00:01\r\u001b[K     |███████████████▌                | 30kB 6.3MB/s eta 0:00:01\r\u001b[K     |████████████████████▋           | 40kB 6.1MB/s eta 0:00:01\r\u001b[K     |█████████████████████████▊      | 51kB 4.5MB/s eta 0:00:01\r\u001b[K     |███████████████████████████████ | 61kB 4.3MB/s eta 0:00:01\r\u001b[K     |████████████████████████████████| 71kB 2.9MB/s \n",
            "\u001b[?25hCollecting mathparse<0.2,>=0.1\n",
            "  Downloading https://files.pythonhosted.org/packages/c3/e5/4910fb85950cb960fcf3f5aabe1c8e55f5c9201788a1c1302b570a7e1f84/mathparse-0.1.2-py3-none-any.whl\n",
            "Requirement already satisfied: pytz in /usr/local/lib/python3.7/dist-packages (from chatterbot) (2018.9)\n",
            "Requirement already satisfied: python-dateutil<2.9,>=2.8 in /usr/local/lib/python3.7/dist-packages (from chatterbot) (2.8.1)\n",
            "Requirement already satisfied: sqlalchemy<1.4,>=1.3 in /usr/local/lib/python3.7/dist-packages (from chatterbot) (1.3.23)\n",
            "Requirement already satisfied: six>=1.5 in /usr/local/lib/python3.7/dist-packages (from python-dateutil<2.9,>=2.8->chatterbot) (1.15.0)\n",
            "Installing collected packages: mathparse, chatterbot\n",
            "Successfully installed chatterbot-1.0.8 mathparse-0.1.2\n"
          ],
          "name": "stdout"
        }
      ]
    },
    {
      "cell_type": "code",
      "metadata": {
        "colab": {
          "base_uri": "https://localhost:8080/"
        },
        "id": "ES7gqGb4prEn",
        "outputId": "d0858081-4bb8-4532-a8a7-8db0e088de98"
      },
      "source": [
        "pip install chatterbot_corpus"
      ],
      "execution_count": 2,
      "outputs": [
        {
          "output_type": "stream",
          "text": [
            "Collecting chatterbot_corpus\n",
            "\u001b[?25l  Downloading https://files.pythonhosted.org/packages/ed/19/f8b41daf36fe4b0f43e283a820362ffdb2c1128600ab4ee187e84262fa4d/chatterbot_corpus-1.2.0-py2.py3-none-any.whl (117kB)\n",
            "\r\u001b[K     |██▉                             | 10kB 11.3MB/s eta 0:00:01\r\u001b[K     |█████▋                          | 20kB 16.2MB/s eta 0:00:01\r\u001b[K     |████████▍                       | 30kB 12.5MB/s eta 0:00:01\r\u001b[K     |███████████▏                    | 40kB 7.4MB/s eta 0:00:01\r\u001b[K     |██████████████                  | 51kB 4.6MB/s eta 0:00:01\r\u001b[K     |████████████████▊               | 61kB 5.3MB/s eta 0:00:01\r\u001b[K     |███████████████████▋            | 71kB 5.2MB/s eta 0:00:01\r\u001b[K     |██████████████████████▍         | 81kB 5.6MB/s eta 0:00:01\r\u001b[K     |█████████████████████████▏      | 92kB 5.2MB/s eta 0:00:01\r\u001b[K     |████████████████████████████    | 102kB 5.6MB/s eta 0:00:01\r\u001b[K     |██████████████████████████████▊ | 112kB 5.6MB/s eta 0:00:01\r\u001b[K     |████████████████████████████████| 122kB 5.6MB/s \n",
            "\u001b[?25hRequirement already satisfied: PyYAML<4.0,>=3.12 in /usr/local/lib/python3.7/dist-packages (from chatterbot_corpus) (3.13)\n",
            "Installing collected packages: chatterbot-corpus\n",
            "Successfully installed chatterbot-corpus-1.2.0\n"
          ],
          "name": "stdout"
        }
      ]
    },
    {
      "cell_type": "code",
      "metadata": {
        "id": "r_y5h57jp0PL"
      },
      "source": [
        "from chatterbot import ChatBot"
      ],
      "execution_count": 3,
      "outputs": []
    },
    {
      "cell_type": "code",
      "metadata": {
        "id": "D64Gho7mp4xF"
      },
      "source": [
        "bot = ChatBot('Champa')"
      ],
      "execution_count": 4,
      "outputs": []
    },
    {
      "cell_type": "code",
      "metadata": {
        "id": "FqUgCSTCp99V"
      },
      "source": [
        "bot = ChatBot(\r\n",
        "    'Champa',\r\n",
        "    storage_adapter='chatterbot.storage.SQLStorageAdapter',\r\n",
        "    database_uri='sqlite:///database.sqlite3'\r\n",
        ")"
      ],
      "execution_count": 5,
      "outputs": []
    },
    {
      "cell_type": "code",
      "metadata": {
        "id": "Cd9EgYelqEv5"
      },
      "source": [
        "bot = ChatBot(\r\n",
        "    'Champa',  \r\n",
        "    logic_adapters=[\r\n",
        "        'chatterbot.logic.BestMatch',\r\n",
        "        'chatterbot.logic.TimeLogicAdapter'],\r\n",
        ")"
      ],
      "execution_count": 6,
      "outputs": []
    },
    {
      "cell_type": "code",
      "metadata": {
        "colab": {
          "base_uri": "https://localhost:8080/"
        },
        "id": "fgC8isu0qTwu",
        "outputId": "66754a43-a985-4862-a2cc-5e629a7ecb7c"
      },
      "source": [
        "from chatterbot.trainers import ListTrainer\r\n",
        "\r\n",
        "trainer = ListTrainer(bot)\r\n",
        "\r\n",
        "trainer.train([\r\n",
        "'Hi',\r\n",
        "'Hello',\r\n",
        "'I need your assistance regarding my order',\r\n",
        "'Please, Provide me with your order id',\r\n",
        "'I have a complaint.',\r\n",
        "'Please elaborate, your concern',\r\n",
        "'How long it will take to receive an order ?',\r\n",
        "'An order takes 3-5 Business days to get delivered.',\r\n",
        "'Okay Thanks',\r\n",
        "'No Problem! Have a Good Day!'\r\n",
        "])"
      ],
      "execution_count": 7,
      "outputs": [
        {
          "output_type": "stream",
          "text": [
            "List Trainer: [####################] 100%\n"
          ],
          "name": "stdout"
        }
      ]
    },
    {
      "cell_type": "code",
      "metadata": {
        "colab": {
          "base_uri": "https://localhost:8080/"
        },
        "id": "EbGIaeu1qbBg",
        "outputId": "ec10f9bb-7304-422d-813f-adbc080b0fb0"
      },
      "source": [
        "name=input(\"Enter Your Name: \")\r\n",
        "print(\"Welcome to the Bot Service! Let me know how can I help you?\")\r\n",
        "while True:\r\n",
        "    request=input(name+':')\r\n",
        "    if request=='Bye' or request =='bye':\r\n",
        "        print('Bot: Bye')\r\n",
        "        break\r\n",
        "    else:\r\n",
        "        response=bot.get_response(request)\r\n",
        "        print('Bot:',response)"
      ],
      "execution_count": 8,
      "outputs": [
        {
          "output_type": "stream",
          "text": [
            "Enter Your Name: Prem Kumar\n",
            "Welcome to the Bot Service! Let me know how can I help you?\n",
            "Prem Kumar:whats ur name\n",
            "Bot: The current time is 06:55 AM\n",
            "Prem Kumar:hi\n",
            "Bot: Hello\n",
            "Prem Kumar:i have a complain\n",
            "Bot: Please elaborate, your concern\n",
            "Prem Kumar:no problem have a good day\n",
            "Bot: Hello\n",
            "Prem Kumar:bye\n",
            "Bot: Bye\n"
          ],
          "name": "stdout"
        }
      ]
    },
    {
      "cell_type": "code",
      "metadata": {
        "id": "bD3gCAOSqoIF"
      },
      "source": [
        ""
      ],
      "execution_count": null,
      "outputs": []
    }
  ]
}